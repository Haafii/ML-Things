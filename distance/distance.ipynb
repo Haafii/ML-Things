{
 "cells": [
  {
   "cell_type": "code",
   "execution_count": 21,
   "id": "997c69e7",
   "metadata": {},
   "outputs": [
    {
     "name": "stdout",
     "output_type": "stream",
     "text": [
      "Travel distance: 129.09 miles\n"
     ]
    }
   ],
   "source": [
    "from geopy.geocoders import Nominatim\n",
    "from geopy.distance import geodesic\n",
    "\n",
    "def get_travel_distance(origin, destination):\n",
    "    geolocator = Nominatim(user_agent=\"distance_app\")\n",
    "    location_origin = geolocator.geocode(origin)\n",
    "    location_destination = geolocator.geocode(destination)\n",
    "    \n",
    "    if location_origin is None or location_destination is None:\n",
    "        print(\"Failed to geocode the locations.\")\n",
    "        return None\n",
    "    \n",
    "    distance = geodesic((location_origin.latitude, location_origin.longitude), \n",
    "                        (location_destination.latitude, location_destination.longitude)).miles\n",
    "    \n",
    "    return distance\n",
    "\n",
    "# Set the origin and destination addresses\n",
    "origin = \"Kozhikode Railway Station\"\n",
    "destination = \"ERNAKULAM SOUTH RAILWAY STATION\"\n",
    "\n",
    "# Call the function to get the travel distance\n",
    "distance = get_travel_distance(origin, destination)\n",
    "\n",
    "if distance is not None:\n",
    "    print(\"Travel distance:\",round( distance,2), \"miles\")\n",
    "else:\n",
    "    print(\"Failed to get the travel distance.\")\n"
   ]
  },
  {
   "cell_type": "code",
   "execution_count": 12,
   "id": "1ef77caa",
   "metadata": {},
   "outputs": [
    {
     "name": "stdout",
     "output_type": "stream",
     "text": [
      "39.60297312852644 km\n"
     ]
    }
   ],
   "source": [
    "from geopy.distance import geodesic\n",
    "\n",
    "f_place = (11.2450558, 75.7754716)\n",
    "s_place = (11.10684475, 76.10995510466662)\n",
    "\n",
    "distance = geodesic(f_place, s_place).km\n",
    "print(distance, \"km\")"
   ]
  },
  {
   "cell_type": "code",
   "execution_count": 11,
   "id": "c16e069e",
   "metadata": {},
   "outputs": [
    {
     "name": "stdout",
     "output_type": "stream",
     "text": [
      "The coordinates of Malappuram are: Latitude=11.10684475, Longitude=76.10995510466662\n"
     ]
    }
   ],
   "source": [
    "from geopy.geocoders import Nominatim\n",
    "\n",
    "def get_coordinates(place_name):\n",
    "    geolocator = Nominatim(user_agent=\"my-app\")  # Specify a user agent\n",
    "    location = geolocator.geocode(place_name)\n",
    "    if location is None:\n",
    "        return None\n",
    "    return location.latitude, location.longitude\n",
    "\n",
    "place = \"Malappuram\"\n",
    "coordinates = get_coordinates(place)\n",
    "\n",
    "if coordinates is not None:\n",
    "    latitude, longitude = coordinates\n",
    "    print(f\"The coordinates of {place} are: Latitude={latitude}, Longitude={longitude}\")\n",
    "else:\n",
    "    print(\"Invalid place name or coordinates not found.\")\n"
   ]
  },
  {
   "cell_type": "code",
   "execution_count": 13,
   "id": "48943d77",
   "metadata": {},
   "outputs": [
    {
     "ename": "ModuleNotFoundError",
     "evalue": "No module named 'osmnx'",
     "output_type": "error",
     "traceback": [
      "\u001b[1;31m---------------------------------------------------------------------------\u001b[0m",
      "\u001b[1;31mModuleNotFoundError\u001b[0m                       Traceback (most recent call last)",
      "Cell \u001b[1;32mIn[13], line 1\u001b[0m\n\u001b[1;32m----> 1\u001b[0m \u001b[38;5;28;01mimport\u001b[39;00m \u001b[38;5;21;01mosmnx\u001b[39;00m \u001b[38;5;28;01mas\u001b[39;00m \u001b[38;5;21;01mox\u001b[39;00m\n",
      "\u001b[1;31mModuleNotFoundError\u001b[0m: No module named 'osmnx'"
     ]
    }
   ],
   "source": [
    "import osmnx as ox\n",
    "start_location = \"Kozhikode\"\n",
    "destination = \"Malappuram\"\n",
    "graph = ox.graph_from_address(start_location, network_type='all')\n",
    "start_node = ox.distance.nearest_nodes(graph, start_location)\n",
    "destination_node = ox.distance.nearest_nodes(graph, destination)\n",
    "distance = ox.distance.shortest_path_length(graph, start_node, destination_node)\n",
    "print(\"The road distance between the start location and the destination is:\", distance, \"meters.\")\n"
   ]
  },
  {
   "cell_type": "code",
   "execution_count": null,
   "id": "acc24410",
   "metadata": {},
   "outputs": [],
   "source": []
  }
 ],
 "metadata": {
  "kernelspec": {
   "display_name": "Python 3 (ipykernel)",
   "language": "python",
   "name": "python3"
  },
  "language_info": {
   "codemirror_mode": {
    "name": "ipython",
    "version": 3
   },
   "file_extension": ".py",
   "mimetype": "text/x-python",
   "name": "python",
   "nbconvert_exporter": "python",
   "pygments_lexer": "ipython3",
   "version": "3.10.9"
  }
 },
 "nbformat": 4,
 "nbformat_minor": 5
}
