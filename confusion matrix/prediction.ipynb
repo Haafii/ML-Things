{
 "cells": [
  {
   "cell_type": "code",
   "execution_count": 53,
   "id": "aa061fee",
   "metadata": {},
   "outputs": [],
   "source": [
    "import pandas as pd\n",
    "from sklearn.metrics import confusion_matrix, classification_report, precision_score, recall_score, f1_score"
   ]
  },
  {
   "cell_type": "code",
   "execution_count": 54,
   "id": "1eeadded",
   "metadata": {},
   "outputs": [
    {
     "name": "stdout",
     "output_type": "stream",
     "text": [
      "Confusion Matrix:\n",
      "[[11  0]\n",
      " [ 1  8]]\n",
      "Misclassification Rate: 0.05\n"
     ]
    }
   ],
   "source": [
    "\n",
    "# Read the Excel file into a pandas DataFrame\n",
    "data1 = pd.read_excel('data1_final.xlsx')\n",
    "\n",
    "# Extract the 'target' and 'prediction' columns from the DataFrame\n",
    "target = data1['Target']\n",
    "prediction = data1['Prediction']\n",
    "\n",
    "# Calculate the confusion matrix\n",
    "cm = confusion_matrix(target, prediction)\n",
    "\n",
    "# Calculate the misclassification rate\n",
    "misclassification_rate = (cm[0, 1] + cm[1, 0]) / cm.sum()\n",
    "\n",
    "print(\"Confusion Matrix:\")\n",
    "print(cm)\n",
    "print(\"Misclassification Rate:\", misclassification_rate)\n"
   ]
  },
  {
   "cell_type": "code",
   "execution_count": 55,
   "id": "1629b224",
   "metadata": {},
   "outputs": [
    {
     "name": "stdout",
     "output_type": "stream",
     "text": [
      "Average Class Accuracy (Harmonic Mean):  0.948849104859335\n",
      "Accuracy: 0.95\n",
      "Precision: 1.0\n",
      "Recall: 0.8888888888888888\n",
      "F1 Score: 0.9411764705882353\n",
      "Classification Report:\n",
      "              precision    recall  f1-score   support\n",
      "\n",
      "           0       0.92      1.00      0.96        11\n",
      "           1       1.00      0.89      0.94         9\n",
      "\n",
      "    accuracy                           0.95        20\n",
      "   macro avg       0.96      0.94      0.95        20\n",
      "weighted avg       0.95      0.95      0.95        20\n",
      "\n"
     ]
    }
   ],
   "source": [
    "# The average class accuracy (harmonic mean)\n",
    "report = classification_report(target, prediction, output_dict=True)\n",
    "average_class_accuracy = report['macro avg']['f1-score']\n",
    "print(\"Average Class Accuracy (Harmonic Mean): \",average_class_accuracy)\n",
    "\n",
    "\n",
    "# Calculate accuracy\n",
    "accuracy = accuracy_score(target, prediction)\n",
    "print(\"Accuracy:\", accuracy)\n",
    "\n",
    "# Calculate precision\n",
    "precision = precision_score(target, prediction)\n",
    "print(\"Precision:\", precision)\n",
    "\n",
    "# Calculate recall\n",
    "recall = recall_score(target, prediction)\n",
    "print(\"Recall:\", recall)\n",
    "\n",
    "# Calculate F1 measure\n",
    "f1 = f1_score(target, prediction)\n",
    "print(\"F1 Score:\", f1)\n",
    "\n",
    "\n",
    "# Calculate classification report\n",
    "report = classification_report(y_target, y_pred, digits=2)\n",
    "\n",
    "# Print the classification report\n",
    "print(\"Classification Report:\")\n",
    "print(report)"
   ]
  },
  {
   "cell_type": "code",
   "execution_count": 56,
   "id": "be626aaa",
   "metadata": {},
   "outputs": [
    {
     "data": {
      "text/html": [
       "<div>\n",
       "<style scoped>\n",
       "    .dataframe tbody tr th:only-of-type {\n",
       "        vertical-align: middle;\n",
       "    }\n",
       "\n",
       "    .dataframe tbody tr th {\n",
       "        vertical-align: top;\n",
       "    }\n",
       "\n",
       "    .dataframe thead th {\n",
       "        text-align: right;\n",
       "    }\n",
       "</style>\n",
       "<table border=\"1\" class=\"dataframe\">\n",
       "  <thead>\n",
       "    <tr style=\"text-align: right;\">\n",
       "      <th></th>\n",
       "      <th>ID</th>\n",
       "      <th>Target</th>\n",
       "      <th>Model 1 Prediction</th>\n",
       "      <th>Model 2 Prediction</th>\n",
       "    </tr>\n",
       "  </thead>\n",
       "  <tbody>\n",
       "    <tr>\n",
       "      <th>0</th>\n",
       "      <td>1</td>\n",
       "      <td>2623</td>\n",
       "      <td>2664</td>\n",
       "      <td>2691</td>\n",
       "    </tr>\n",
       "    <tr>\n",
       "      <th>1</th>\n",
       "      <td>2</td>\n",
       "      <td>2423</td>\n",
       "      <td>2436</td>\n",
       "      <td>2367</td>\n",
       "    </tr>\n",
       "    <tr>\n",
       "      <th>2</th>\n",
       "      <td>3</td>\n",
       "      <td>2423</td>\n",
       "      <td>2399</td>\n",
       "      <td>2412</td>\n",
       "    </tr>\n",
       "    <tr>\n",
       "      <th>3</th>\n",
       "      <td>4</td>\n",
       "      <td>2448</td>\n",
       "      <td>2447</td>\n",
       "      <td>2440</td>\n",
       "    </tr>\n",
       "    <tr>\n",
       "      <th>4</th>\n",
       "      <td>5</td>\n",
       "      <td>2762</td>\n",
       "      <td>2847</td>\n",
       "      <td>2693</td>\n",
       "    </tr>\n",
       "    <tr>\n",
       "      <th>5</th>\n",
       "      <td>6</td>\n",
       "      <td>2435</td>\n",
       "      <td>2411</td>\n",
       "      <td>2493</td>\n",
       "    </tr>\n",
       "    <tr>\n",
       "      <th>6</th>\n",
       "      <td>7</td>\n",
       "      <td>2519</td>\n",
       "      <td>2516</td>\n",
       "      <td>2598</td>\n",
       "    </tr>\n",
       "    <tr>\n",
       "      <th>7</th>\n",
       "      <td>8</td>\n",
       "      <td>2772</td>\n",
       "      <td>2870</td>\n",
       "      <td>2814</td>\n",
       "    </tr>\n",
       "    <tr>\n",
       "      <th>8</th>\n",
       "      <td>9</td>\n",
       "      <td>2601</td>\n",
       "      <td>2586</td>\n",
       "      <td>2583</td>\n",
       "    </tr>\n",
       "    <tr>\n",
       "      <th>9</th>\n",
       "      <td>10</td>\n",
       "      <td>2422</td>\n",
       "      <td>2414</td>\n",
       "      <td>2485</td>\n",
       "    </tr>\n",
       "  </tbody>\n",
       "</table>\n",
       "</div>"
      ],
      "text/plain": [
       "   ID  Target  Model 1 Prediction  Model 2 Prediction\n",
       "0   1    2623                2664                2691\n",
       "1   2    2423                2436                2367\n",
       "2   3    2423                2399                2412\n",
       "3   4    2448                2447                2440\n",
       "4   5    2762                2847                2693\n",
       "5   6    2435                2411                2493\n",
       "6   7    2519                2516                2598\n",
       "7   8    2772                2870                2814\n",
       "8   9    2601                2586                2583\n",
       "9  10    2422                2414                2485"
      ]
     },
     "execution_count": 56,
     "metadata": {},
     "output_type": "execute_result"
    }
   ],
   "source": [
    "data2 = pd.read_excel('data2_final.xlsx')\n",
    "data2.head(10)"
   ]
  },
  {
   "cell_type": "code",
   "execution_count": 57,
   "id": "c2fd5bb9",
   "metadata": {},
   "outputs": [
    {
     "name": "stdout",
     "output_type": "stream",
     "text": [
      "Sum of Squared Errors (SSE) for Model 1: 33500\n",
      "Sum of Squared Errors (SSE) for Model 2: 94738\n"
     ]
    }
   ],
   "source": [
    "# Calculate the squared errors for each model\n",
    "data2['Squared Error Model 1'] = (data2['Target'] - data2['Model 1 Prediction']) ** 2\n",
    "data2['Squared Error Model 2'] = (data2['Target'] - data2['Model 2 Prediction']) ** 2\n",
    "\n",
    "# Calculate the sum of squared errors (SSE) for each model\n",
    "sse_model1 = data2['Squared Error Model 1'].sum()\n",
    "sse_model2 = data2['Squared Error Model 2'].sum()\n",
    "\n",
    "print(\"Sum of Squared Errors (SSE) for Model 1:\", sse_model1)\n",
    "print(\"Sum of Squared Errors (SSE) for Model 2:\", sse_model2)\n"
   ]
  },
  {
   "cell_type": "code",
   "execution_count": 58,
   "id": "3c1a9e25",
   "metadata": {},
   "outputs": [
    {
     "name": "stdout",
     "output_type": "stream",
     "text": [
      "Root Mean Squared Error (RMSE) for Model 1: 33.4165627596057\n",
      "Root Mean Squared Error (RMSE) for Model 2: 56.1954921086499\n"
     ]
    }
   ],
   "source": [
    "# Calculate the RMSE for each model\n",
    "rmse_model1 = np.sqrt(sse_model1 / len(data2))\n",
    "rmse_model2 = np.sqrt(sse_model2 / len(data2))\n",
    "\n",
    "print(\"Root Mean Squared Error (RMSE) for Model 1:\", rmse_model1)\n",
    "print(\"Root Mean Squared Error (RMSE) for Model 2:\", rmse_model2)"
   ]
  },
  {
   "cell_type": "code",
   "execution_count": 52,
   "id": "586b1090",
   "metadata": {
    "scrolled": true
   },
   "outputs": [
    {
     "name": "stdout",
     "output_type": "stream",
     "text": [
      "Model 1 is performing better.\n"
     ]
    }
   ],
   "source": [
    "if rmse_model1 < rmse_model2:\n",
    "    print(\"Model 1 is performing better.\")\n",
    "elif rmse_model2 < rmse_model1:\n",
    "    print(\"Model 2 is performing better.\")\n",
    "else:\n",
    "    print(\"Both models have the same RMSE and perform equally.\")"
   ]
  },
  {
   "cell_type": "code",
   "execution_count": null,
   "id": "4a367166",
   "metadata": {},
   "outputs": [],
   "source": []
  }
 ],
 "metadata": {
  "kernelspec": {
   "display_name": "Python 3 (ipykernel)",
   "language": "python",
   "name": "python3"
  },
  "language_info": {
   "codemirror_mode": {
    "name": "ipython",
    "version": 3
   },
   "file_extension": ".py",
   "mimetype": "text/x-python",
   "name": "python",
   "nbconvert_exporter": "python",
   "pygments_lexer": "ipython3",
   "version": "3.10.9"
  }
 },
 "nbformat": 4,
 "nbformat_minor": 5
}
